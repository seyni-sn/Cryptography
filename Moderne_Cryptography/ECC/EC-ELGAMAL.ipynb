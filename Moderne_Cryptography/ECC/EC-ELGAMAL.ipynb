{
 "cells": [
  {
   "cell_type": "code",
   "execution_count": 23,
   "metadata": {},
   "outputs": [],
   "source": [
    "################### Cryptosysteme Elgamal sur les EC #######################\n",
    "################# Generation des cles\n",
    "\n",
    "def genkey(t):\n",
    "    p = next_prime(ZZ.random_element(2^t))\n",
    "    Fp = FiniteField(p)\n",
    "    a = Fp(ZZ.random_element(2^(t/4)))\n",
    "    b = Fp(ZZ.random_element(2^(t/4)))\n",
    "    \n",
    "    while 4*a^3+27+b^2 == 0:\n",
    "        a = Fp(ZZ.random_element(2^(t/4)))\n",
    "        b = Fp(ZZ.random_element(2^(t/4)))\n",
    "    E = EllipticCurve(Fp, [a, b])\n",
    "    G = E.gens()[0]\n",
    "    n = G.order()\n",
    "    d = randint(1, n)\n",
    "    H = d*G\n",
    "    Kpub = G, H, E, p\n",
    "    Kpriv = d, E, p\n",
    "    return Kpub, Kpriv\n",
    "    "
   ]
  },
  {
   "cell_type": "code",
   "execution_count": 24,
   "metadata": {},
   "outputs": [
    {
     "data": {
      "text/plain": [
       "<function E at 0x7f15e7c69a60>"
      ]
     },
     "execution_count": 24,
     "metadata": {},
     "output_type": "execute_result"
    }
   ],
   "source": [
    " E = EllipticCurve(Fp, [a, b]);E"
   ]
  },
  {
   "cell_type": "code",
   "execution_count": 16,
   "metadata": {},
   "outputs": [],
   "source": [
    "cle = genkey(64)"
   ]
  },
  {
   "cell_type": "code",
   "execution_count": 25,
   "metadata": {},
   "outputs": [
    {
     "data": {
      "text/plain": [
       "((10488839761860884506 : 10194220176797334472 : 1),\n",
       " (317950129389921958 : 11085990819478128092 : 1),\n",
       " Elliptic Curve defined by y^2 = x^3 + 8311*x + 63199 over Finite Field of size 15441160250812503887,\n",
       " 15441160250812503887)"
      ]
     },
     "execution_count": 25,
     "metadata": {},
     "output_type": "execute_result"
    }
   ],
   "source": [
    "cle[0]"
   ]
  },
  {
   "cell_type": "code",
   "execution_count": 17,
   "metadata": {},
   "outputs": [
    {
     "data": {
      "text/plain": [
       "(((10488839761860884506 : 10194220176797334472 : 1),\n",
       "  (317950129389921958 : 11085990819478128092 : 1),\n",
       "  Elliptic Curve defined by y^2 = x^3 + 8311*x + 63199 over Finite Field of size 15441160250812503887,\n",
       "  15441160250812503887),\n",
       " (4755000398749722073,\n",
       "  Elliptic Curve defined by y^2 = x^3 + 8311*x + 63199 over Finite Field of size 15441160250812503887,\n",
       "  15441160250812503887))"
      ]
     },
     "execution_count": 17,
     "metadata": {},
     "output_type": "execute_result"
    }
   ],
   "source": [
    "cle[0], cle[1]"
   ]
  },
  {
   "cell_type": "code",
   "execution_count": 21,
   "metadata": {},
   "outputs": [],
   "source": [
    "############# Chiffrement\n",
    "def crypt(m, pub):\n",
    "    G = pub[0]\n",
    "    H = pub[1]\n",
    "    n = G.order()\n",
    "    k = randint(1,n)\n",
    "    C1 = k*G\n",
    "    C2 = m + k*H\n",
    "    return C1, C2"
   ]
  },
  {
   "cell_type": "code",
   "execution_count": 20,
   "metadata": {},
   "outputs": [
    {
     "data": {
      "text/plain": [
       "(2107473255808881322 : 12399393999930021056 : 1)"
      ]
     },
     "execution_count": 20,
     "metadata": {},
     "output_type": "execute_result"
    }
   ],
   "source": [
    "m = cle[0][2].random_point(); m"
   ]
  },
  {
   "cell_type": "code",
   "execution_count": 22,
   "metadata": {},
   "outputs": [
    {
     "data": {
      "text/plain": [
       "Elliptic Curve defined by y^2 = x^3 + 8311*x + 63199 over Finite Field of size 15441160250812503887"
      ]
     },
     "execution_count": 22,
     "metadata": {},
     "output_type": "execute_result"
    }
   ],
   "source": [
    "cle[0][2]"
   ]
  },
  {
   "cell_type": "code",
   "execution_count": 10,
   "metadata": {},
   "outputs": [
    {
     "data": {
      "text/plain": [
       "((3850165829882743786 : 4021446343153354199 : 1),\n",
       " (3065060703506783559 : 4721153534653081073 : 1))"
      ]
     },
     "execution_count": 10,
     "metadata": {},
     "output_type": "execute_result"
    }
   ],
   "source": [
    "m = cle[0][2].random_point()\n",
    "chiffre = crypt(m, cle[0])\n",
    "chiffre"
   ]
  },
  {
   "cell_type": "code",
   "execution_count": 11,
   "metadata": {},
   "outputs": [],
   "source": [
    "############# Decrypt ##################\n",
    "def decrypt(chif1, chif2, priv):\n",
    "    d = priv[0]\n",
    "    dechif = chif2 - d*chif1\n",
    "    return dechif\n"
   ]
  },
  {
   "cell_type": "code",
   "execution_count": 12,
   "metadata": {},
   "outputs": [
    {
     "data": {
      "text/plain": [
       "True"
      ]
     },
     "execution_count": 12,
     "metadata": {},
     "output_type": "execute_result"
    }
   ],
   "source": [
    "dechiffre = decrypt(chiffre[0], chiffre[1], cle[1])\n",
    "dechiffre == m"
   ]
  },
  {
   "cell_type": "code",
   "execution_count": null,
   "metadata": {},
   "outputs": [],
   "source": []
  }
 ],
 "metadata": {
  "kernelspec": {
   "display_name": "SageMath 9.0",
   "language": "sage",
   "name": "sagemath"
  },
  "language_info": {
   "codemirror_mode": {
    "name": "ipython",
    "version": 3
   },
   "file_extension": ".py",
   "mimetype": "text/x-python",
   "name": "python",
   "nbconvert_exporter": "python",
   "pygments_lexer": "ipython3",
   "version": "3.8.10"
  }
 },
 "nbformat": 4,
 "nbformat_minor": 4
}
