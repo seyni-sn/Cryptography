{
 "cells": [
  {
   "cell_type": "code",
   "execution_count": 1,
   "metadata": {},
   "outputs": [
    {
     "data": {
      "text/plain": [
       "((6 : 4 : 1), (3 : 0 : 1), (6 : 3 : 1), (0 : 1 : 0))"
      ]
     },
     "execution_count": 1,
     "metadata": {},
     "output_type": "execute_result"
    }
   ],
   "source": [
    "####################################Exo1#################################\n",
    "\n",
    "Fp = FiniteField(7) #Definition du corps\n",
    "a = Fp(3)# Valeur de a dans l'equation\n",
    "b = Fp(-1)\n",
    "E = EllipticCurve(Fp,[a,b]) # La courbe elliptique definie sur Fp\n",
    "D = E.discriminant() ## Discriminant de la courbe\n",
    "J = E.j_invariant() # Le j_invariant\n",
    "E.points() # Ensemble des points de la points de la courbe\n",
    "G = E.gens()[0] #Point generateur\n",
    "E.cardinality() # Cardinal de la courbe sur Fp\n",
    "G, 2*G, 3*G, 4*G\n",
    "\n",
    "##############################Exo2########################################"
   ]
  },
  {
   "cell_type": "code",
   "execution_count": 3,
   "metadata": {},
   "outputs": [
    {
     "data": {
      "text/plain": [
       "(Elliptic Curve defined by y^2 = x^3 + 2*x over Finite Field of size 13,\n",
       " 8,\n",
       " 12,\n",
       " True,\n",
       " [1, 4],\n",
       " 5,\n",
       " 10,\n",
       " [(0 : 0 : 1), (0 : 1 : 0), (1 : 4 : 1), (1 : 9 : 1), (2 : 5 : 1), (2 : 8 : 1), (11 : 1 : 1), (11 : 12 : 1), (12 : 6 : 1), (12 : 7 : 1)])"
      ]
     },
     "execution_count": 3,
     "metadata": {},
     "output_type": "execute_result"
    }
   ],
   "source": [
    "Fp = FiniteField(13)\n",
    "a = Fp(2)\n",
    "b = Fp(0)\n",
    "E = EllipticCurve(Fp,[a,b])\n",
    "D = E.discriminant() \n",
    "J = E.j_invariant()\n",
    "Points = E.points()\n",
    "Card = E.cardinality()\n",
    "E.cardinality()\n",
    "P = [1, 4] # On defini un point de coordonnees x=1, y=4\n",
    "P1= E.point([1, 4]) # Recueration d'un point de la courbe\n",
    "Ord = P1.order() # L'ordre du point\n",
    "E, D, J, P in E,P, Ord, Card, Points"
   ]
  },
  {
   "cell_type": "code",
   "execution_count": null,
   "metadata": {},
   "outputs": [],
   "source": []
  }
 ],
 "metadata": {
  "kernelspec": {
   "display_name": "SageMath 9.0",
   "language": "sage",
   "name": "sagemath"
  },
  "language_info": {
   "codemirror_mode": {
    "name": "ipython",
    "version": 3
   },
   "file_extension": ".py",
   "mimetype": "text/x-python",
   "name": "python",
   "nbconvert_exporter": "python",
   "pygments_lexer": "ipython3",
   "version": "3.8.10"
  }
 },
 "nbformat": 4,
 "nbformat_minor": 4
}
