{
 "cells": [
  {
   "cell_type": "code",
   "execution_count": 12,
   "metadata": {},
   "outputs": [],
   "source": [
    "################################ ECDH #######################################\n",
    "\n",
    "p = next_prime(ZZ.random_element(2^128))\n",
    "Fp = FiniteField(p)\n",
    "a = Fp(ZZ.random_element(2^64))\n",
    "b = Fp(ZZ.random_element(2^64))\n",
    "\n",
    "while 4*a^3+27+b^2 == 0:\n",
    "    a = Fp(ZZ.random_element(2^4))\n",
    "    b = Fp(ZZ.random_element(2^4))\n",
    "E = EllipticCurve(Fp, [a,b])\n",
    "G = E.gens()[0]\n",
    "d = G.order()\n",
    "#E, G, d\n",
    "#E.points, E.cardinality()\n",
    "\n"
   ]
  },
  {
   "cell_type": "code",
   "execution_count": null,
   "metadata": {},
   "outputs": [],
   "source": [
    "######### A calcule alpha*G et envoie  a B\n",
    "alpha = randrange(d)\n",
    "A = alpha*G\n",
    "\n",
    "######## B calcule beta*G et envoie a A\n",
    "beta = randint(1,d)\n",
    "B = beta*G\n",
    "\n",
    "######## A calcule Ka - Alpha*B\n",
    "KA = alpha*B\n",
    "\n",
    "######## B calcule KB - beta*A\n",
    "KB = beta*A\n",
    "\n",
    "####### Comparer KA et KB\n",
    "KA == KB, KA, KB\n",
    "\n",
    "\n"
   ]
  },
  {
   "cell_type": "code",
   "execution_count": null,
   "metadata": {},
   "outputs": [],
   "source": []
  }
 ],
 "metadata": {
  "kernelspec": {
   "display_name": "SageMath 9.0",
   "language": "sage",
   "name": "sagemath"
  },
  "language_info": {
   "codemirror_mode": {
    "name": "ipython",
    "version": 3
   },
   "file_extension": ".py",
   "mimetype": "text/x-python",
   "name": "python",
   "nbconvert_exporter": "python",
   "pygments_lexer": "ipython3",
   "version": "3.8.10"
  }
 },
 "nbformat": 4,
 "nbformat_minor": 4
}
