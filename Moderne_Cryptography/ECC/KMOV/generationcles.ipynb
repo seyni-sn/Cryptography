{
 "cells": [
  {
   "cell_type": "code",
   "execution_count": null,
   "metadata": {},
   "outputs": [],
   "source": [
    "def genKeys(t):\n",
    "    p = next_prime(2^(t/2))\n",
    "    while p%3!=2:\n",
    "        p = next_prime(2^(t/2))\n",
    "    q = next_prime(p)\n",
    "    while q%3!=2:\n",
    "        q = next_prim(q)\n",
    "    n = p*q\n",
    "    phi = (p+1)*(q+1)\n",
    "    Fn = Zmod(n)\n",
    "    e = Integer(Fn.random_element())\n",
    "    while gcd(e, phi)!=1:\n",
    "        e = Integer(Fn.random_element())\n",
    "    d = inverse_mod(e, phi)\n",
    "    pubkey = n, e\n",
    "    privkey = n, d\n",
    "    key = pubkey, privkey\n",
    "    return key"
   ]
  }
 ],
 "metadata": {
  "kernelspec": {
   "display_name": "SageMath 9.0",
   "language": "sage",
   "name": "sagemath"
  },
  "language_info": {
   "codemirror_mode": {
    "name": "ipython",
    "version": 3
   },
   "file_extension": ".py",
   "mimetype": "text/x-python",
   "name": "python",
   "nbconvert_exporter": "python",
   "pygments_lexer": "ipython3",
   "version": "3.8.10"
  }
 },
 "nbformat": 4,
 "nbformat_minor": 2
}
