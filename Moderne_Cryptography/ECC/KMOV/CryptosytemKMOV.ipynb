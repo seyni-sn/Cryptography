{
 "cells": [
  {
   "cell_type": "code",
   "execution_count": 5,
   "metadata": {},
   "outputs": [
    {
     "name": "stdout",
     "output_type": "stream",
     "text": [
      "####################################################\n",
      "######## IMPLEMENTATION DU CRYPTOSYSTEME DE KMOV:###\n",
      "######## 1) GENERATION DES CLES                  ###\n",
      "######## 2) CHIFFREMENT                          ###\n",
      "######## 3) DECHIFFREMENT                        ###\n",
      "####################################################\n"
     ]
    }
   ],
   "source": [
    "print(\"####################################################\")\n",
    "print(\"######## IMPLEMENTATION DU CRYPTOSYSTEME DE KMOV:###\")\n",
    "print(\"######## 1) GENERATION DES CLES                  ###\")\n",
    "print(\"######## 2) CHIFFREMENT                          ###\")\n",
    "print(\"######## 3) DECHIFFREMENT                        ###\")\n",
    "print(\"####################################################\")\n",
    "      \n",
    "#########################CHIFFREMENT DE KMOV###############################\n",
    "      \n",
    "def encrypt (key, m):\n",
    "    n = key[0][0]\n",
    "    e = key[0][1]\n",
    "    b = mod(m[1]^2-m[0]^3, n)\n",
    "    Fn = Zmod(n)\n",
    "    E = EllipticCurve(Fn, [0, b])\n",
    "    M = E(m[0], m[1])\n",
    "    C = e*M\n",
    "    return C\n",
    "#################DECHIFFREMENT DE KMOV#####################################\n",
    "def decrypt(key, C):\n",
    "    n = key[1][0]\n",
    "    d = key[1][1]\n",
    "    b = mod(C[1]^2-C[0]^3, n)\n",
    "    Fn = Zmod(n)\n",
    "    E = EllipticCurve(Fn, [0, 1])\n",
    "    M = d*C\n",
    "      "
   ]
  },
  {
   "cell_type": "code",
   "execution_count": null,
   "metadata": {},
   "outputs": [],
   "source": []
  }
 ],
 "metadata": {
  "kernelspec": {
   "display_name": "SageMath 9.0",
   "language": "sage",
   "name": "sagemath"
  },
  "language_info": {
   "codemirror_mode": {
    "name": "ipython",
    "version": 3
   },
   "file_extension": ".py",
   "mimetype": "text/x-python",
   "name": "python",
   "nbconvert_exporter": "python",
   "pygments_lexer": "ipython3",
   "version": "3.8.10"
  }
 },
 "nbformat": 4,
 "nbformat_minor": 2
}
