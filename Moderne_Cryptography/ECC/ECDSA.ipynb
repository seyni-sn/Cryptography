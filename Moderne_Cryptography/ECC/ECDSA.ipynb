{
 "cells": [
  {
   "cell_type": "code",
   "execution_count": 5,
   "metadata": {},
   "outputs": [],
   "source": [
    "######################## Schema ECDSA ##################\n",
    "def genkey(t):\n",
    "    n = 4\n",
    "    while is_prime(n) == False:\n",
    "        p = next_prime(ZZ.random_element(2^t))\n",
    "        Fp = FiniteField(p)\n",
    "        a = Fp(ZZ.random_element(2^(t/4)))\n",
    "        b = Fp(ZZ.random_element(2^(t/4)))\n",
    "        while 4*a^3+27+b^2 == 0:\n",
    "            a = Fp(ZZ.random_element(2^(t/4)))\n",
    "            b = Fp(ZZ.random_element(2^(t/4)))\n",
    "        E = EllipticCurve(Fp, [a, b])\n",
    "        G = E.gens()[0]\n",
    "        n = G.order()\n",
    "    d = randint(1, n)\n",
    "    H = d*G\n",
    "    Kpub = G, H, E, p\n",
    "    Kpriv = d, E, p\n",
    "    return Kpub, Kpriv"
   ]
  },
  {
   "cell_type": "code",
   "execution_count": 6,
   "metadata": {},
   "outputs": [],
   "source": [
    "cle = genkey(128)"
   ]
  },
  {
   "cell_type": "code",
   "execution_count": 17,
   "metadata": {},
   "outputs": [],
   "source": [
    "############################ Signature #####################\n",
    "def sign(m, pub, priv):\n",
    "    G = pub[0]\n",
    "    n = G.order()\n",
    "    d = priv[0]\n",
    "    k = randint(1,n)\n",
    "    c = hash(m)\n",
    "    r = mod((k*G)[0], n)\n",
    "    e = hash(m)\n",
    "    s = mod(inverse_mod(k,n)*(e + d*r), n)\n",
    "    sig = r, s\n",
    "    return sig"
   ]
  },
  {
   "cell_type": "code",
   "execution_count": 18,
   "metadata": {},
   "outputs": [],
   "source": [
    "m = cle[0][2].random_point()\n",
    "SIG = sign(m, cle[0], cle[1])"
   ]
  },
  {
   "cell_type": "code",
   "execution_count": 27,
   "metadata": {},
   "outputs": [],
   "source": [
    "############# Verification ###############\n",
    "def verif(M, R, S, pub):\n",
    "    G = pub[0]\n",
    "    N = G.order()\n",
    "    H = pub[1]\n",
    "    E = hash(M)\n",
    "    W = inverse_mod(Integer(S), N)\n",
    "    U1 = mod(E*W,N)\n",
    "    U2 = mod(R*W, N)\n",
    "    X = Integer(U1)*G + Integer(U2)*H\n",
    "    V = mod(X[0], N)\n",
    "    if V == R:\n",
    "        return True\n",
    "    else:\n",
    "        return False"
   ]
  },
  {
   "cell_type": "code",
   "execution_count": 28,
   "metadata": {},
   "outputs": [
    {
     "data": {
      "text/plain": [
       "False"
      ]
     },
     "execution_count": 28,
     "metadata": {},
     "output_type": "execute_result"
    }
   ],
   "source": [
    "verif(m, SIG[0], SIG[1], cle[0])"
   ]
  },
  {
   "cell_type": "code",
   "execution_count": null,
   "metadata": {},
   "outputs": [],
   "source": []
  }
 ],
 "metadata": {
  "kernelspec": {
   "display_name": "SageMath 9.0",
   "language": "sage",
   "name": "sagemath"
  },
  "language_info": {
   "codemirror_mode": {
    "name": "ipython",
    "version": 3
   },
   "file_extension": ".py",
   "mimetype": "text/x-python",
   "name": "python",
   "nbconvert_exporter": "python",
   "pygments_lexer": "ipython3",
   "version": "3.8.10"
  }
 },
 "nbformat": 4,
 "nbformat_minor": 4
}
